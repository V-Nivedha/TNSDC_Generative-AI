{
  "nbformat": 4,
  "nbformat_minor": 0,
  "metadata": {
    "colab": {
      "provenance": []
    },
    "kernelspec": {
      "name": "python3",
      "display_name": "Python 3"
    },
    "language_info": {
      "name": "python"
    }
  },
  "cells": [
    {
      "cell_type": "code",
      "execution_count": 2,
      "metadata": {
        "colab": {
          "base_uri": "https://localhost:8080/"
        },
        "id": "MPSU1E8SSYFR",
        "outputId": "39b03989-a501-4ba3-e58a-4d6a97af1242"
      },
      "outputs": [
        {
          "output_type": "stream",
          "name": "stdout",
          "text": [
            "KNN_accuracy = 0.8875502008032129 RFC_accuracy = 0.927710843373494\n",
            "KNN_clf_report:               precision    recall  f1-score   support\n",
            "\n",
            "           0       0.90      0.97      0.94       872\n",
            "           1       0.61      0.27      0.38       124\n",
            "\n",
            "    accuracy                           0.89       996\n",
            "   macro avg       0.76      0.62      0.66       996\n",
            "weighted avg       0.87      0.89      0.87       996\n",
            "\n",
            "RFC_clf_report:               precision    recall  f1-score   support\n",
            "\n",
            "           0       0.93      0.99      0.96       872\n",
            "           1       0.85      0.51      0.64       124\n",
            "\n",
            "    accuracy                           0.93       996\n",
            "   macro avg       0.89      0.75      0.80       996\n",
            "weighted avg       0.92      0.93      0.92       996\n",
            "\n"
          ]
        }
      ],
      "source": [
        "import pandas as pd\n",
        "import numpy as np\n",
        "from sklearn.model_selection import train_test_split\n",
        "from sklearn.neighbors import KNeighborsClassifier\n",
        "from sklearn.ensemble import RandomForestClassifier\n",
        "from sklearn.metrics import accuracy_score, classification_report\n",
        "\n",
        "# Load data\n",
        "int_billing = pd.read_csv('/content/data_international_billing.csv')\n",
        "local_billing = pd.read_csv('/content/data_local_billing.csv')\n",
        "churn_target = pd.read_csv('/content/data_churn_target.csv')\n",
        "\n",
        "# Combine the data\n",
        "churn_data = int_billing.merge(local_billing, on='Phone').merge(churn_target, on='Phone')\n",
        "\n",
        "# Preprocessing\n",
        "churn_data.fillna(0, inplace=True)\n",
        "churn_data.replace({'Churn?': {'False.': 0, 'True.': 1}, 'VMail Plan': {'no': 0, 'yes': 1}, \"Int'l Plan\": {'no': 0, 'yes': 1}}, inplace=True)\n",
        "churn_data.drop(['Phone', 'State', 'Area Code'], axis=1, inplace=True)\n",
        "\n",
        "# Data splitting\n",
        "X = churn_data.iloc[:, 1:17]\n",
        "Y = churn_data['Churn?']\n",
        "X_train, X_test, Y_train, Y_test = train_test_split(X, Y, test_size=0.3)\n",
        "\n",
        "# Model building\n",
        "KNN = KNeighborsClassifier(n_neighbors=5)\n",
        "KNN.fit(X_train, Y_train)\n",
        "KNN_predict = KNN.predict(X_test)\n",
        "\n",
        "RFC = RandomForestClassifier()\n",
        "RFC.fit(X_train, Y_train)\n",
        "RFC_predict = RFC.predict(X_test)\n",
        "\n",
        "# Evaluation\n",
        "KNN_accuracy = accuracy_score(Y_test, KNN_predict)\n",
        "RFC_accuracy = accuracy_score(Y_test, RFC_predict)\n",
        "\n",
        "KNN_clf_report = classification_report(Y_test, KNN_predict)\n",
        "RFC_clf_report = classification_report(Y_test, RFC_predict)\n",
        "\n",
        "print('KNN_accuracy =', KNN_accuracy, 'RFC_accuracy =', RFC_accuracy)\n",
        "print('KNN_clf_report:', KNN_clf_report)\n",
        "print('RFC_clf_report:', RFC_clf_report)\n"
      ]
    }
  ]
}